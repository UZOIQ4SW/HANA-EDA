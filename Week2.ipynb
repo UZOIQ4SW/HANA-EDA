{
 "cells": [
  {
   "cell_type": "code",
   "execution_count": 1,
   "id": "29a4fff6-785d-4338-af39-7a21e29b74e0",
   "metadata": {},
   "outputs": [],
   "source": [
    "from hana_ml import dataframe as hdf\n",
    "import pandas as pd"
   ]
  },
  {
   "cell_type": "code",
   "execution_count": 2,
   "id": "7103c82e-8e1b-472c-b852-cb443f62a8a5",
   "metadata": {},
   "outputs": [
    {
     "name": "stdout",
     "output_type": "stream",
     "text": [
      "SAP HANA DB version:  4.00.000.00.1678185420 (fa/CE2022.42)\n"
     ]
    }
   ],
   "source": [
    "myconn=hdf.ConnectionContext(userkey='DevChallenger')\n",
    "print(\"SAP HANA DB version: \", myconn.hana_version())"
   ]
  },
  {
   "cell_type": "code",
   "execution_count": 3,
   "id": "8bca661b-537f-4a38-946a-31458ed79c18",
   "metadata": {},
   "outputs": [
    {
     "name": "stdout",
     "output_type": "stream",
     "text": [
      "2023-03-17 07:44:29.639000\n"
     ]
    }
   ],
   "source": [
    "print(myconn.sql(\"SELECT NOW() FROM DUMMY\").collect().CURRENT_TIMESTAMP[0])"
   ]
  },
  {
   "cell_type": "code",
   "execution_count": 4,
   "id": "732275b2-325f-4fba-88e7-ae414e43ee64",
   "metadata": {},
   "outputs": [],
   "source": [
    "mycursor = myconn.connection.cursor()"
   ]
  },
  {
   "cell_type": "code",
   "execution_count": 5,
   "id": "c0f5aa65-7d6c-4f11-8af4-214cfd2aa7b2",
   "metadata": {},
   "outputs": [],
   "source": [
    "# mycursor.execute('''\n",
    "# CREATE TABLE \"SEASONS\" (\n",
    "#   \"ID\" INT PRIMARY KEY, \n",
    "#   \"DESC\" VARCHAR(12)\n",
    "# )\n",
    "# ''');"
   ]
  },
  {
   "cell_type": "code",
   "execution_count": 6,
   "id": "2dc1a3d1-cb4c-4e81-8c98-2c0a57cad938",
   "metadata": {},
   "outputs": [],
   "source": [
    "# mycursor.execute('TRUNCATE TABLE \"SEASONS\"');\n",
    "\n",
    "# records_inserted=mycursor.executemany(operation='INSERT INTO \"SEASONS\" (\"ID\", \"DESC\") VALUES (?, ?)',\n",
    "#                                      list_of_parameters=\n",
    "#                                       ((1, \"WINTER\"),\n",
    "#                                       (2, \"SPRING\"),\n",
    "#                                       (3, \"SUMMER\"),\n",
    "#                                       (4, \"FALL\"))\n",
    "#                                      )\n",
    "# print(\"Records inserted: \", sum(records_inserted))"
   ]
  },
  {
   "cell_type": "code",
   "execution_count": 7,
   "id": "65f1c9b1-5016-4da4-88b8-433a7f929fd8",
   "metadata": {},
   "outputs": [
    {
     "name": "stdout",
     "output_type": "stream",
     "text": [
      "the first record (1, 'WINTER')\n",
      "the second record (2, 'SPRING')\n",
      "the rest of records [(3, 'SUMMER'), (4, 'FALL')]\n"
     ]
    }
   ],
   "source": [
    "mycursor.execute('SELECT * FROM \"SEASONS\"')\n",
    "#Get the first record\n",
    "result=mycursor.fetchone()\n",
    "print(\"the first record\", result)\n",
    "\n",
    "#Get the second record\n",
    "result=mycursor.fetchone()\n",
    "print(\"the second record\", result)\n",
    "\n",
    "#Get the rest of records\n",
    "result=mycursor.fetchall()\n",
    "print(\"the rest of records\", result)"
   ]
  },
  {
   "cell_type": "code",
   "execution_count": 8,
   "id": "6dda3cfb-7ccc-4bf1-aa87-f294344e70a0",
   "metadata": {},
   "outputs": [
    {
     "name": "stdout",
     "output_type": "stream",
     "text": [
      "Current database schema: DEVCHALLENGER\n"
     ]
    }
   ],
   "source": [
    "print(f\"Current database schema: {myconn.get_current_schema()}\")"
   ]
  },
  {
   "cell_type": "code",
   "execution_count": 9,
   "id": "75544a14-266f-48f1-b7f6-77bbd84f4f12",
   "metadata": {},
   "outputs": [
    {
     "name": "stdout",
     "output_type": "stream",
     "text": [
      "5 table(s) in the schema DEVCHALLENGER: ['CML_WASTE_WATER_VERTICES', 'BIKES', 'SEASONS', 'CML_WASTE_WATER_EDGES', 'MONTHS']\n"
     ]
    }
   ],
   "source": [
    "mycursor.execute(f'''\n",
    "SELECT TABLE_NAME\n",
    "FROM M_TABLES\n",
    "WHERE SCHEMA_NAME='{myconn.get_current_schema()}'\n",
    "''')\n",
    "\n",
    "#Get all records\n",
    "result=mycursor.fetchall()\n",
    "print(f\"{len(result)} table(s) in the schema {myconn.get_current_schema()}: {[x[0] for x in result]}\")"
   ]
  },
  {
   "cell_type": "code",
   "execution_count": 10,
   "id": "e9c8b9bb-91b1-4904-92cf-9cc5938632bb",
   "metadata": {},
   "outputs": [],
   "source": [
    "# myconn.drop_table(\"MONTHS\")\n",
    "# myconn.create_table(\"MONTHS\", table_structure={\"ID\":\"INT\", \"DESC\":\"VARCHAR(10)\"})"
   ]
  },
  {
   "cell_type": "code",
   "execution_count": 11,
   "id": "c39d1d89-bdd8-410c-a045-3c3f7b5eae3e",
   "metadata": {},
   "outputs": [
    {
     "data": {
      "text/html": [
       "<div>\n",
       "<style scoped>\n",
       "    .dataframe tbody tr th:only-of-type {\n",
       "        vertical-align: middle;\n",
       "    }\n",
       "\n",
       "    .dataframe tbody tr th {\n",
       "        vertical-align: top;\n",
       "    }\n",
       "\n",
       "    .dataframe thead th {\n",
       "        text-align: right;\n",
       "    }\n",
       "</style>\n",
       "<table border=\"1\" class=\"dataframe\">\n",
       "  <thead>\n",
       "    <tr style=\"text-align: right;\">\n",
       "      <th></th>\n",
       "      <th>TABLE_NAME</th>\n",
       "    </tr>\n",
       "  </thead>\n",
       "  <tbody>\n",
       "    <tr>\n",
       "      <th>0</th>\n",
       "      <td>CML_WASTE_WATER_VERTICES</td>\n",
       "    </tr>\n",
       "    <tr>\n",
       "      <th>1</th>\n",
       "      <td>BIKES</td>\n",
       "    </tr>\n",
       "    <tr>\n",
       "      <th>2</th>\n",
       "      <td>CML_WASTE_WATER_EDGES</td>\n",
       "    </tr>\n",
       "    <tr>\n",
       "      <th>3</th>\n",
       "      <td>SEASONS</td>\n",
       "    </tr>\n",
       "    <tr>\n",
       "      <th>4</th>\n",
       "      <td>MONTHS</td>\n",
       "    </tr>\n",
       "  </tbody>\n",
       "</table>\n",
       "</div>"
      ],
      "text/plain": [
       "                 TABLE_NAME\n",
       "0  CML_WASTE_WATER_VERTICES\n",
       "1                     BIKES\n",
       "2     CML_WASTE_WATER_EDGES\n",
       "3                   SEASONS\n",
       "4                    MONTHS"
      ]
     },
     "execution_count": 11,
     "metadata": {},
     "output_type": "execute_result"
    }
   ],
   "source": [
    "myconn.get_tables()"
   ]
  },
  {
   "cell_type": "code",
   "execution_count": 12,
   "id": "f47ecc74-c451-447b-a19d-e5d2eeeb7c4b",
   "metadata": {},
   "outputs": [],
   "source": [
    "months_df=pd.DataFrame(\n",
    "    {\"ID\": range(1,13),\n",
    "     \"DESC\": ['JAN', 'FEB', 'MAR', 'APR', 'MAY', 'JUN', 'JUL', 'AUG', 'SEP', 'OCT', 'NOV', 'DEC']\n",
    "    })"
   ]
  },
  {
   "cell_type": "code",
   "execution_count": 13,
   "id": "9705793c-2b59-43ec-a489-b43fd2980dc4",
   "metadata": {},
   "outputs": [
    {
     "data": {
      "text/html": [
       "<div>\n",
       "<style scoped>\n",
       "    .dataframe tbody tr th:only-of-type {\n",
       "        vertical-align: middle;\n",
       "    }\n",
       "\n",
       "    .dataframe tbody tr th {\n",
       "        vertical-align: top;\n",
       "    }\n",
       "\n",
       "    .dataframe thead th {\n",
       "        text-align: right;\n",
       "    }\n",
       "</style>\n",
       "<table border=\"1\" class=\"dataframe\">\n",
       "  <thead>\n",
       "    <tr style=\"text-align: right;\">\n",
       "      <th></th>\n",
       "      <th>ID</th>\n",
       "      <th>DESC</th>\n",
       "    </tr>\n",
       "  </thead>\n",
       "  <tbody>\n",
       "    <tr>\n",
       "      <th>0</th>\n",
       "      <td>1</td>\n",
       "      <td>JAN</td>\n",
       "    </tr>\n",
       "    <tr>\n",
       "      <th>1</th>\n",
       "      <td>2</td>\n",
       "      <td>FEB</td>\n",
       "    </tr>\n",
       "    <tr>\n",
       "      <th>2</th>\n",
       "      <td>3</td>\n",
       "      <td>MAR</td>\n",
       "    </tr>\n",
       "    <tr>\n",
       "      <th>3</th>\n",
       "      <td>4</td>\n",
       "      <td>APR</td>\n",
       "    </tr>\n",
       "    <tr>\n",
       "      <th>4</th>\n",
       "      <td>5</td>\n",
       "      <td>MAY</td>\n",
       "    </tr>\n",
       "    <tr>\n",
       "      <th>5</th>\n",
       "      <td>6</td>\n",
       "      <td>JUN</td>\n",
       "    </tr>\n",
       "    <tr>\n",
       "      <th>6</th>\n",
       "      <td>7</td>\n",
       "      <td>JUL</td>\n",
       "    </tr>\n",
       "    <tr>\n",
       "      <th>7</th>\n",
       "      <td>8</td>\n",
       "      <td>AUG</td>\n",
       "    </tr>\n",
       "    <tr>\n",
       "      <th>8</th>\n",
       "      <td>9</td>\n",
       "      <td>SEP</td>\n",
       "    </tr>\n",
       "    <tr>\n",
       "      <th>9</th>\n",
       "      <td>10</td>\n",
       "      <td>OCT</td>\n",
       "    </tr>\n",
       "    <tr>\n",
       "      <th>10</th>\n",
       "      <td>11</td>\n",
       "      <td>NOV</td>\n",
       "    </tr>\n",
       "    <tr>\n",
       "      <th>11</th>\n",
       "      <td>12</td>\n",
       "      <td>DEC</td>\n",
       "    </tr>\n",
       "  </tbody>\n",
       "</table>\n",
       "</div>"
      ],
      "text/plain": [
       "    ID DESC\n",
       "0    1  JAN\n",
       "1    2  FEB\n",
       "2    3  MAR\n",
       "3    4  APR\n",
       "4    5  MAY\n",
       "5    6  JUN\n",
       "6    7  JUL\n",
       "7    8  AUG\n",
       "8    9  SEP\n",
       "9   10  OCT\n",
       "10  11  NOV\n",
       "11  12  DEC"
      ]
     },
     "metadata": {},
     "output_type": "display_data"
    }
   ],
   "source": [
    "display(months_df)"
   ]
  },
  {
   "cell_type": "code",
   "execution_count": 14,
   "id": "4e5298d4-958b-422e-8fd3-f924420b6371",
   "metadata": {},
   "outputs": [
    {
     "name": "stderr",
     "output_type": "stream",
     "text": [
      "100%|██████████| 1/1 [00:00<00:00,  1.51it/s]\n"
     ]
    }
   ],
   "source": [
    "months_hdf = hdf.create_dataframe_from_pandas(connection_context=myconn,\n",
    "                                      pandas_df=months_df,\n",
    "                                      table_name='MONTHS',\n",
    "                                      primary_key='ID',\n",
    "                                      force=True\n",
    "                                     )"
   ]
  },
  {
   "cell_type": "code",
   "execution_count": 15,
   "id": "444dd15b-8f64-40d1-ac81-dbc4e01bc55d",
   "metadata": {},
   "outputs": [
    {
     "data": {
      "text/plain": [
       "hana_ml.dataframe.DataFrame"
      ]
     },
     "execution_count": 15,
     "metadata": {},
     "output_type": "execute_result"
    }
   ],
   "source": [
    "type(months_hdf)"
   ]
  },
  {
   "cell_type": "code",
   "execution_count": 16,
   "id": "687a9d1a-6a8f-44dd-8841-c94f7d9fec46",
   "metadata": {},
   "outputs": [
    {
     "name": "stdout",
     "output_type": "stream",
     "text": [
      "SELECT * FROM \"MONTHS\"\n"
     ]
    }
   ],
   "source": [
    "print(months_hdf.select_statement)"
   ]
  },
  {
   "cell_type": "code",
   "execution_count": 17,
   "id": "89febc54-8447-4358-940b-c03392d14be4",
   "metadata": {},
   "outputs": [
    {
     "name": "stdout",
     "output_type": "stream",
     "text": [
      "All 12 records: [(1, 'JAN'), (2, 'FEB'), (3, 'MAR'), (4, 'APR'), (5, 'MAY'), (6, 'JUN'), (7, 'JUL'), (8, 'AUG'), (9, 'SEP'), (10, 'OCT'), (11, 'NOV'), (12, 'DEC')]\n"
     ]
    }
   ],
   "source": [
    "mycursor.execute(months_hdf.select_statement)\n",
    "\n",
    "#Get all records\n",
    "result=mycursor.fetchall()\n",
    "\n",
    "#Display returned records\n",
    "print(f\"All {len(result)} records: {result}\")"
   ]
  },
  {
   "cell_type": "code",
   "execution_count": 18,
   "id": "51788b40-a5af-4962-a328-9daec66af08f",
   "metadata": {},
   "outputs": [
    {
     "data": {
      "text/html": [
       "<div>\n",
       "<style scoped>\n",
       "    .dataframe tbody tr th:only-of-type {\n",
       "        vertical-align: middle;\n",
       "    }\n",
       "\n",
       "    .dataframe tbody tr th {\n",
       "        vertical-align: top;\n",
       "    }\n",
       "\n",
       "    .dataframe thead th {\n",
       "        text-align: right;\n",
       "    }\n",
       "</style>\n",
       "<table border=\"1\" class=\"dataframe\">\n",
       "  <thead>\n",
       "    <tr style=\"text-align: right;\">\n",
       "      <th></th>\n",
       "      <th>ID</th>\n",
       "      <th>DESC</th>\n",
       "    </tr>\n",
       "  </thead>\n",
       "  <tbody>\n",
       "    <tr>\n",
       "      <th>0</th>\n",
       "      <td>1</td>\n",
       "      <td>JAN</td>\n",
       "    </tr>\n",
       "    <tr>\n",
       "      <th>1</th>\n",
       "      <td>2</td>\n",
       "      <td>FEB</td>\n",
       "    </tr>\n",
       "    <tr>\n",
       "      <th>2</th>\n",
       "      <td>3</td>\n",
       "      <td>MAR</td>\n",
       "    </tr>\n",
       "    <tr>\n",
       "      <th>3</th>\n",
       "      <td>4</td>\n",
       "      <td>APR</td>\n",
       "    </tr>\n",
       "    <tr>\n",
       "      <th>4</th>\n",
       "      <td>5</td>\n",
       "      <td>MAY</td>\n",
       "    </tr>\n",
       "    <tr>\n",
       "      <th>5</th>\n",
       "      <td>6</td>\n",
       "      <td>JUN</td>\n",
       "    </tr>\n",
       "    <tr>\n",
       "      <th>6</th>\n",
       "      <td>7</td>\n",
       "      <td>JUL</td>\n",
       "    </tr>\n",
       "    <tr>\n",
       "      <th>7</th>\n",
       "      <td>8</td>\n",
       "      <td>AUG</td>\n",
       "    </tr>\n",
       "    <tr>\n",
       "      <th>8</th>\n",
       "      <td>9</td>\n",
       "      <td>SEP</td>\n",
       "    </tr>\n",
       "    <tr>\n",
       "      <th>9</th>\n",
       "      <td>10</td>\n",
       "      <td>OCT</td>\n",
       "    </tr>\n",
       "    <tr>\n",
       "      <th>10</th>\n",
       "      <td>11</td>\n",
       "      <td>NOV</td>\n",
       "    </tr>\n",
       "    <tr>\n",
       "      <th>11</th>\n",
       "      <td>12</td>\n",
       "      <td>DEC</td>\n",
       "    </tr>\n",
       "  </tbody>\n",
       "</table>\n",
       "</div>"
      ],
      "text/plain": [
       "    ID DESC\n",
       "0    1  JAN\n",
       "1    2  FEB\n",
       "2    3  MAR\n",
       "3    4  APR\n",
       "4    5  MAY\n",
       "5    6  JUN\n",
       "6    7  JUL\n",
       "7    8  AUG\n",
       "8    9  SEP\n",
       "9   10  OCT\n",
       "10  11  NOV\n",
       "11  12  DEC"
      ]
     },
     "execution_count": 18,
     "metadata": {},
     "output_type": "execute_result"
    }
   ],
   "source": [
    "months_hdf.collect()"
   ]
  },
  {
   "cell_type": "code",
   "execution_count": 19,
   "id": "0c631f65-22ec-4f33-b30a-9504a20e5d0b",
   "metadata": {},
   "outputs": [
    {
     "data": {
      "text/plain": [
       "pandas.core.frame.DataFrame"
      ]
     },
     "execution_count": 19,
     "metadata": {},
     "output_type": "execute_result"
    }
   ],
   "source": [
    "type(months_df)"
   ]
  },
  {
   "cell_type": "code",
   "execution_count": 20,
   "id": "f81e85f4-0e18-44e9-bfef-106ecff4a202",
   "metadata": {},
   "outputs": [],
   "source": [
    "url=\"https://raw.githubusercontent.com/SAP-samples/hana-ml-samples/main/Python-API/pal/datasets/bike.csv\"\n",
    "bikes_df = pd.io.parsers.read_csv(url)"
   ]
  },
  {
   "cell_type": "code",
   "execution_count": 21,
   "id": "f82b2879-3a53-4107-8a87-a1599d0b785c",
   "metadata": {},
   "outputs": [
    {
     "data": {
      "text/html": [
       "<div>\n",
       "<style scoped>\n",
       "    .dataframe tbody tr th:only-of-type {\n",
       "        vertical-align: middle;\n",
       "    }\n",
       "\n",
       "    .dataframe tbody tr th {\n",
       "        vertical-align: top;\n",
       "    }\n",
       "\n",
       "    .dataframe thead th {\n",
       "        text-align: right;\n",
       "    }\n",
       "</style>\n",
       "<table border=\"1\" class=\"dataframe\">\n",
       "  <thead>\n",
       "    <tr style=\"text-align: right;\">\n",
       "      <th></th>\n",
       "      <th>season</th>\n",
       "      <th>yr</th>\n",
       "      <th>mnth</th>\n",
       "      <th>holiday</th>\n",
       "      <th>weekday</th>\n",
       "      <th>workingday</th>\n",
       "      <th>weathersit</th>\n",
       "      <th>temp</th>\n",
       "      <th>hum</th>\n",
       "      <th>windspeed</th>\n",
       "      <th>cnt</th>\n",
       "      <th>days_since_2011</th>\n",
       "    </tr>\n",
       "  </thead>\n",
       "  <tbody>\n",
       "    <tr>\n",
       "      <th>0</th>\n",
       "      <td>WINTER</td>\n",
       "      <td>2011</td>\n",
       "      <td>JAN</td>\n",
       "      <td>NO HOLIDAY</td>\n",
       "      <td>SAT</td>\n",
       "      <td>NO WORKING DAY</td>\n",
       "      <td>MISTY</td>\n",
       "      <td>8.175849</td>\n",
       "      <td>80.5833</td>\n",
       "      <td>10.749882</td>\n",
       "      <td>985</td>\n",
       "      <td>0</td>\n",
       "    </tr>\n",
       "    <tr>\n",
       "      <th>1</th>\n",
       "      <td>WINTER</td>\n",
       "      <td>2011</td>\n",
       "      <td>JAN</td>\n",
       "      <td>NO HOLIDAY</td>\n",
       "      <td>SUN</td>\n",
       "      <td>NO WORKING DAY</td>\n",
       "      <td>MISTY</td>\n",
       "      <td>9.083466</td>\n",
       "      <td>69.6087</td>\n",
       "      <td>16.652113</td>\n",
       "      <td>801</td>\n",
       "      <td>1</td>\n",
       "    </tr>\n",
       "    <tr>\n",
       "      <th>2</th>\n",
       "      <td>WINTER</td>\n",
       "      <td>2011</td>\n",
       "      <td>JAN</td>\n",
       "      <td>NO HOLIDAY</td>\n",
       "      <td>MON</td>\n",
       "      <td>WORKING DAY</td>\n",
       "      <td>GOOD</td>\n",
       "      <td>1.229108</td>\n",
       "      <td>43.7273</td>\n",
       "      <td>16.636703</td>\n",
       "      <td>1349</td>\n",
       "      <td>2</td>\n",
       "    </tr>\n",
       "    <tr>\n",
       "      <th>3</th>\n",
       "      <td>WINTER</td>\n",
       "      <td>2011</td>\n",
       "      <td>JAN</td>\n",
       "      <td>NO HOLIDAY</td>\n",
       "      <td>TUE</td>\n",
       "      <td>WORKING DAY</td>\n",
       "      <td>GOOD</td>\n",
       "      <td>1.400000</td>\n",
       "      <td>59.0435</td>\n",
       "      <td>10.739832</td>\n",
       "      <td>1562</td>\n",
       "      <td>3</td>\n",
       "    </tr>\n",
       "    <tr>\n",
       "      <th>4</th>\n",
       "      <td>WINTER</td>\n",
       "      <td>2011</td>\n",
       "      <td>JAN</td>\n",
       "      <td>NO HOLIDAY</td>\n",
       "      <td>WED</td>\n",
       "      <td>WORKING DAY</td>\n",
       "      <td>GOOD</td>\n",
       "      <td>2.666979</td>\n",
       "      <td>43.6957</td>\n",
       "      <td>12.522300</td>\n",
       "      <td>1600</td>\n",
       "      <td>4</td>\n",
       "    </tr>\n",
       "    <tr>\n",
       "      <th>...</th>\n",
       "      <td>...</td>\n",
       "      <td>...</td>\n",
       "      <td>...</td>\n",
       "      <td>...</td>\n",
       "      <td>...</td>\n",
       "      <td>...</td>\n",
       "      <td>...</td>\n",
       "      <td>...</td>\n",
       "      <td>...</td>\n",
       "      <td>...</td>\n",
       "      <td>...</td>\n",
       "      <td>...</td>\n",
       "    </tr>\n",
       "    <tr>\n",
       "      <th>726</th>\n",
       "      <td>WINTER</td>\n",
       "      <td>2012</td>\n",
       "      <td>DEC</td>\n",
       "      <td>NO HOLIDAY</td>\n",
       "      <td>THU</td>\n",
       "      <td>WORKING DAY</td>\n",
       "      <td>MISTY</td>\n",
       "      <td>3.945849</td>\n",
       "      <td>65.2917</td>\n",
       "      <td>23.458911</td>\n",
       "      <td>2114</td>\n",
       "      <td>726</td>\n",
       "    </tr>\n",
       "    <tr>\n",
       "      <th>727</th>\n",
       "      <td>WINTER</td>\n",
       "      <td>2012</td>\n",
       "      <td>DEC</td>\n",
       "      <td>NO HOLIDAY</td>\n",
       "      <td>FRI</td>\n",
       "      <td>WORKING DAY</td>\n",
       "      <td>MISTY</td>\n",
       "      <td>3.906651</td>\n",
       "      <td>59.0000</td>\n",
       "      <td>10.416557</td>\n",
       "      <td>3095</td>\n",
       "      <td>727</td>\n",
       "    </tr>\n",
       "    <tr>\n",
       "      <th>728</th>\n",
       "      <td>WINTER</td>\n",
       "      <td>2012</td>\n",
       "      <td>DEC</td>\n",
       "      <td>NO HOLIDAY</td>\n",
       "      <td>SAT</td>\n",
       "      <td>NO WORKING DAY</td>\n",
       "      <td>MISTY</td>\n",
       "      <td>3.906651</td>\n",
       "      <td>75.2917</td>\n",
       "      <td>8.333661</td>\n",
       "      <td>1341</td>\n",
       "      <td>728</td>\n",
       "    </tr>\n",
       "    <tr>\n",
       "      <th>729</th>\n",
       "      <td>WINTER</td>\n",
       "      <td>2012</td>\n",
       "      <td>DEC</td>\n",
       "      <td>NO HOLIDAY</td>\n",
       "      <td>SUN</td>\n",
       "      <td>NO WORKING DAY</td>\n",
       "      <td>GOOD</td>\n",
       "      <td>4.024151</td>\n",
       "      <td>48.3333</td>\n",
       "      <td>23.500518</td>\n",
       "      <td>1796</td>\n",
       "      <td>729</td>\n",
       "    </tr>\n",
       "    <tr>\n",
       "      <th>730</th>\n",
       "      <td>WINTER</td>\n",
       "      <td>2012</td>\n",
       "      <td>DEC</td>\n",
       "      <td>NO HOLIDAY</td>\n",
       "      <td>MON</td>\n",
       "      <td>WORKING DAY</td>\n",
       "      <td>MISTY</td>\n",
       "      <td>2.144151</td>\n",
       "      <td>57.7500</td>\n",
       "      <td>10.374682</td>\n",
       "      <td>2729</td>\n",
       "      <td>730</td>\n",
       "    </tr>\n",
       "  </tbody>\n",
       "</table>\n",
       "<p>731 rows × 12 columns</p>\n",
       "</div>"
      ],
      "text/plain": [
       "     season    yr mnth     holiday weekday      workingday weathersit  \\\n",
       "0    WINTER  2011  JAN  NO HOLIDAY     SAT  NO WORKING DAY      MISTY   \n",
       "1    WINTER  2011  JAN  NO HOLIDAY     SUN  NO WORKING DAY      MISTY   \n",
       "2    WINTER  2011  JAN  NO HOLIDAY     MON     WORKING DAY       GOOD   \n",
       "3    WINTER  2011  JAN  NO HOLIDAY     TUE     WORKING DAY       GOOD   \n",
       "4    WINTER  2011  JAN  NO HOLIDAY     WED     WORKING DAY       GOOD   \n",
       "..      ...   ...  ...         ...     ...             ...        ...   \n",
       "726  WINTER  2012  DEC  NO HOLIDAY     THU     WORKING DAY      MISTY   \n",
       "727  WINTER  2012  DEC  NO HOLIDAY     FRI     WORKING DAY      MISTY   \n",
       "728  WINTER  2012  DEC  NO HOLIDAY     SAT  NO WORKING DAY      MISTY   \n",
       "729  WINTER  2012  DEC  NO HOLIDAY     SUN  NO WORKING DAY       GOOD   \n",
       "730  WINTER  2012  DEC  NO HOLIDAY     MON     WORKING DAY      MISTY   \n",
       "\n",
       "         temp      hum  windspeed   cnt  days_since_2011  \n",
       "0    8.175849  80.5833  10.749882   985                0  \n",
       "1    9.083466  69.6087  16.652113   801                1  \n",
       "2    1.229108  43.7273  16.636703  1349                2  \n",
       "3    1.400000  59.0435  10.739832  1562                3  \n",
       "4    2.666979  43.6957  12.522300  1600                4  \n",
       "..        ...      ...        ...   ...              ...  \n",
       "726  3.945849  65.2917  23.458911  2114              726  \n",
       "727  3.906651  59.0000  10.416557  3095              727  \n",
       "728  3.906651  75.2917   8.333661  1341              728  \n",
       "729  4.024151  48.3333  23.500518  1796              729  \n",
       "730  2.144151  57.7500  10.374682  2729              730  \n",
       "\n",
       "[731 rows x 12 columns]"
      ]
     },
     "metadata": {},
     "output_type": "display_data"
    }
   ],
   "source": [
    "display(bikes_df)"
   ]
  },
  {
   "cell_type": "code",
   "execution_count": null,
   "id": "e671a676-e222-423c-a178-98949173da65",
   "metadata": {},
   "outputs": [
    {
     "name": "stderr",
     "output_type": "stream",
     "text": [
      "  0%|          | 0/1 [00:00<?, ?it/s]"
     ]
    }
   ],
   "source": [
    "bikes_hdf = hdf.create_dataframe_from_pandas(connection_context=myconn,\n",
    "                                      pandas_df=bikes_df,\n",
    "                                      table_name='BIKES',\n",
    "                                      primary_key='days_since_2011',\n",
    "                                      force=True\n",
    "                                     )"
   ]
  },
  {
   "cell_type": "code",
   "execution_count": null,
   "id": "caf6934f-a8d5-42a7-8c5a-da9b2c88584d",
   "metadata": {},
   "outputs": [],
   "source": [
    "type(bikes_hdf)"
   ]
  },
  {
   "cell_type": "code",
   "execution_count": null,
   "id": "01d41285-23ca-4434-8ee8-1201c2787875",
   "metadata": {},
   "outputs": [],
   "source": [
    "print(bikes_hdf.select_statement)"
   ]
  },
  {
   "cell_type": "code",
   "execution_count": null,
   "id": "6e92ce15-c3fa-45f9-bd3c-60343288605e",
   "metadata": {},
   "outputs": [],
   "source": [
    "bikes_hdf.collect().head(n=10)"
   ]
  },
  {
   "cell_type": "code",
   "execution_count": null,
   "id": "dc50cb4c-9a50-4211-8983-da88ce584fda",
   "metadata": {},
   "outputs": [],
   "source": [
    "bikes_hdf.collect()[\"season\"].unique().tolist()"
   ]
  },
  {
   "cell_type": "code",
   "execution_count": null,
   "id": "51f2aa11-d0bc-4920-94ef-5c09a5b5d9b0",
   "metadata": {},
   "outputs": [],
   "source": []
  }
 ],
 "metadata": {
  "kernelspec": {
   "display_name": "Python 3 (ipykernel)",
   "language": "python",
   "name": "python3"
  },
  "language_info": {
   "codemirror_mode": {
    "name": "ipython",
    "version": 3
   },
   "file_extension": ".py",
   "mimetype": "text/x-python",
   "name": "python",
   "nbconvert_exporter": "python",
   "pygments_lexer": "ipython3",
   "version": "3.10.9"
  }
 },
 "nbformat": 4,
 "nbformat_minor": 5
}
