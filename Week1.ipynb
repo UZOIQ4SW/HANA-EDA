{
 "cells": [
  {
   "cell_type": "code",
   "execution_count": 1,
   "id": "905b78d8-a052-43d3-a0bc-ecc4761fa90d",
   "metadata": {},
   "outputs": [
    {
     "name": "stdout",
     "output_type": "stream",
     "text": [
      "Python 3.9.13\n"
     ]
    }
   ],
   "source": [
    "!python -V"
   ]
  },
  {
   "cell_type": "code",
   "execution_count": 2,
   "id": "86ee9e35-c2a2-4a03-a77d-98a2eb6eda10",
   "metadata": {},
   "outputs": [
    {
     "name": "stderr",
     "output_type": "stream",
     "text": [
      "ModuleNotFoundError: No module named 'shapely'\n"
     ]
    },
    {
     "name": "stdout",
     "output_type": "stream",
     "text": [
      "The package version:  2.15.23021701\n"
     ]
    }
   ],
   "source": [
    "import hana_ml\n",
    "print(\"The package version: \", hana_ml.__version__)"
   ]
  },
  {
   "cell_type": "code",
   "execution_count": 3,
   "id": "0009f591-7f65-4508-977a-3a1912173996",
   "metadata": {},
   "outputs": [],
   "source": [
    "from hana_ml import dataframe as hdf"
   ]
  },
  {
   "cell_type": "code",
   "execution_count": 4,
   "id": "a47083d9-e075-4772-9ca0-9c598cc27c76",
   "metadata": {},
   "outputs": [
    {
     "name": "stdout",
     "output_type": "stream",
     "text": [
      "SAP HANA DB version:  4.00.000.00.1678185420 (fa/CE2022.42)\n"
     ]
    }
   ],
   "source": [
    "myconn=hdf.ConnectionContext(userkey='DevChallenger')\n",
    "print(\"SAP HANA DB version: \", myconn.hana_version())"
   ]
  },
  {
   "cell_type": "code",
   "execution_count": 5,
   "id": "b16e0fb7-c759-457d-ba16-232cac8614d3",
   "metadata": {},
   "outputs": [
    {
     "name": "stdout",
     "output_type": "stream",
     "text": [
      "2023-03-11 03:32:23.950000\n"
     ]
    }
   ],
   "source": [
    "print(myconn.sql(\"SELECT NOW() FROM DUMMY\").collect().CURRENT_TIMESTAMP[0])"
   ]
  },
  {
   "cell_type": "code",
   "execution_count": null,
   "id": "99e70b9e-a58a-4658-a139-4ae385c83fc6",
   "metadata": {},
   "outputs": [],
   "source": []
  }
 ],
 "metadata": {
  "kernelspec": {
   "display_name": "Python 3 (ipykernel)",
   "language": "python",
   "name": "python3"
  },
  "language_info": {
   "codemirror_mode": {
    "name": "ipython",
    "version": 3
   },
   "file_extension": ".py",
   "mimetype": "text/x-python",
   "name": "python",
   "nbconvert_exporter": "python",
   "pygments_lexer": "ipython3",
   "version": "3.9.13"
  }
 },
 "nbformat": 4,
 "nbformat_minor": 5
}
